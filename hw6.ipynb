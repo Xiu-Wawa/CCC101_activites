{
  "nbformat": 4,
  "nbformat_minor": 0,
  "metadata": {
    "colab": {
      "name": "hw6.ipynb",
      "provenance": [],
      "collapsed_sections": [],
      "include_colab_link": true
    },
    "kernelspec": {
      "name": "python3",
      "display_name": "Python 3"
    },
    "language_info": {
      "name": "python"
    }
  },
  "cells": [
    {
      "cell_type": "markdown",
      "metadata": {
        "id": "view-in-github",
        "colab_type": "text"
      },
      "source": [
        "<a href=\"https://colab.research.google.com/github/Xiu-Wawa/CCC101_activites/blob/main/hw6.ipynb\" target=\"_parent\"><img src=\"https://colab.research.google.com/assets/colab-badge.svg\" alt=\"Open In Colab\"/></a>"
      ]
    },
    {
      "cell_type": "markdown",
      "source": [
        ""
      ],
      "metadata": {
        "id": "LKUL1DkOrvSz"
      }
    },
    {
      "cell_type": "markdown",
      "source": [
        "**Part 1**\n",
        "\n",
        "Complete the definition of the `show_odd_numbers` function below. It should display a list of odd numbers that are divisible by 5 from a parameter `min` to another parameter `max` inclusive."
      ],
      "metadata": {
        "id": "_n0CoQ1-Ua2R"
      }
    },
    {
      "cell_type": "code",
      "execution_count": null,
      "metadata": {
        "id": "drAUUHFsSrwN",
        "colab": {
          "base_uri": "https://localhost:8080/"
        },
        "outputId": "1cedc452-9024-49ba-df96-4323f76bf99c"
      },
      "outputs": [
        {
          "output_type": "stream",
          "name": "stdout",
          "text": [
            "5\n",
            "15\n",
            "25\n",
            "35\n",
            "45\n",
            "55\n",
            "65\n",
            "75\n"
          ]
        }
      ],
      "source": [
        "def show_odd_numbers(min, max):\n",
        "    for number in range(min, max + 1):       \n",
        "        if number % 5 == 0 and number % 2 == 1:         \n",
        "            print(number)\n",
        "            \n",
        "show_odd_numbers(5, 81)"
      ]
    },
    {
      "cell_type": "markdown",
      "source": [
        "**Part 2**\n",
        "\n",
        "Complete the definition of the function `replace(s, old, new)` that replaces all occurrences of `old` with `new` in a string `s`"
      ],
      "metadata": {
        "id": "TTWZPhtxU2bK"
      }
    },
    {
      "cell_type": "code",
      "source": [
        "def replace(s, old, new):\n",
        "    print(s.replace(old, new))\n",
        "\n",
        "\n",
        "s = \"I love spom! Spom is my favorite food. Spom, spom, yum!\"\n",
        "replace(s, \"om\", \"am\") #the output should be \"I love spam! Spam is my favorite food. Spam, spam, yum!\""
      ],
      "metadata": {
        "colab": {
          "base_uri": "https://localhost:8080/"
        },
        "id": "jZELoK1YV04w",
        "outputId": "d01f4a65-0624-41a2-cc9c-c0ab64374e8d"
      },
      "execution_count": null,
      "outputs": [
        {
          "output_type": "stream",
          "name": "stdout",
          "text": [
            "I love spam! Spam is my favorite food. Spam, spam, yum!\n"
          ]
        }
      ]
    },
    {
      "cell_type": "markdown",
      "source": [
        "**Part 3**\n",
        "\n",
        "Complete the definition of the function `dot_product(u,v)` that takes two lists of numbers of the same length, and returns the sum of the products of the corresponding elements of each"
      ],
      "metadata": {
        "id": "Yz4XFAK2ZpaB"
      }
    },
    {
      "cell_type": "code",
      "source": [
        "def dot_product(u, v):\n",
        "    sum = 0\n",
        "    for i in range(len(u)):\n",
        "        sum += u[i] * v[i]\n",
        "    return sum\n",
        "\n",
        "dot_product([1,1],[1,1]) #executing this should return 2"
      ],
      "metadata": {
        "id": "aqyxAhbuZ7AV",
        "colab": {
          "base_uri": "https://localhost:8080/"
        },
        "outputId": "67139669-e91d-43e2-f905-1f832044db00"
      },
      "execution_count": null,
      "outputs": [
        {
          "output_type": "execute_result",
          "data": {
            "text/plain": [
              "2"
            ]
          },
          "metadata": {},
          "execution_count": 6
        }
      ]
    },
    {
      "cell_type": "code",
      "source": [
        "dot_product([1,2],[1,4]) #executing this should return 9"
      ],
      "metadata": {
        "id": "AC64AnYMaMgU",
        "colab": {
          "base_uri": "https://localhost:8080/"
        },
        "outputId": "4934cf44-0deb-44e9-9094-d67e6c7a902f"
      },
      "execution_count": null,
      "outputs": [
        {
          "output_type": "execute_result",
          "data": {
            "text/plain": [
              "9"
            ]
          },
          "metadata": {},
          "execution_count": 7
        }
      ]
    },
    {
      "cell_type": "code",
      "source": [
        "dot_product([1,2,1], [1,4,3]) #executing this should return 12"
      ],
      "metadata": {
        "id": "e-wnguZRaSKg",
        "colab": {
          "base_uri": "https://localhost:8080/"
        },
        "outputId": "0e3b45b4-e477-4408-f75a-b29c505e9ef6"
      },
      "execution_count": null,
      "outputs": [
        {
          "output_type": "execute_result",
          "data": {
            "text/plain": [
              "12"
            ]
          },
          "metadata": {},
          "execution_count": 8
        }
      ]
    },
    {
      "cell_type": "markdown",
      "source": [
        "**Part 4**"
      ],
      "metadata": {
        "id": "ynQU-ypclS7m"
      }
    },
    {
      "cell_type": "markdown",
      "source": [
        "An *anagram* is a type of wordplay that involves rearranging the letters of a word or phrase to form new words and phrases.\n",
        "\n",
        "Create a program that compares two strings and determines\n",
        "if the two strings are anagrams. The program should prompt\n",
        "for both input strings and display the output as shown in\n",
        "the example that follows.\n",
        "\n",
        "![anagram.PNG](data:image/png;base64,iVBORw0KGgoAAAANSUhEUgAAAbwAAACRCAYAAAC49Q2DAAAAAXNSR0IArs4c6QAAAARnQU1BAACxjwv8YQUAAAAJcEhZcwAADsMAAA7DAcdvqGQAABxWSURBVHhe7Z2/ayNJt4bn33C86WTOHClyMskkXzKBAicbbDDgwKDgwgQLGwgEAwMLhgaz0cLQYDALg0A4GbgIxMfCcDHKlosxXJZlMQ6W4UOcWz9b1VXVXadbLY3kfh9omJFb3XXOqTpvd6m6zwsCAAAAegAEDwAAQC+A4AEAAOgFEDwAAAC9AIIHAACgF0DwAAAA9AIIHgAAgF4AwQMAANALIHgAAAB6AQQPAABAL4DgAQAA6AUQPAAAAL0AggcAAKAXQPAAAAD0AggeAACAXgDBAwAA0AtaCt6fNLs4phcvXkS2f1G2/MfsB549qzvKTo/o6GJGj+YjYDHj5DSj5cp8xMX4NTbG4r7+h5bZvyrO5Y/XY7qY/Wn+5vA4o4sj51xHI5o9Nm34tliJ5o3oqLChyg9MW58dJv6MmK0ePtNk+DLhxy7gt2lXbCR43TrKduh9FcwNktfesAUbIHg1dOFv7rioEzwHJWopETDn7CpRqXMe0Wl2J47cBcz8w7L1ucAVF+O7s5zuNw5Gqn9D8GqA4G2f52DDIdGFvyF4Icz80yvBY9LpBWqqf/dN8KxzzzOaXl3QQN1CH9HgIqflk3WAcVoxBeFukc66eqBFPqahnXoZXNDV4iEcSEVgf6O7xS90MZDTQ/65GahB47bJ2UwgV8uMTmsSUvj3R1pOJ2sbjoY0ni7pyfy1MU9LmmXWv2ITPslmzvEYNrjo9grfT3+nRRG3U7rI7yqPGe0LrPgbRFznk6GZsnpJw8lHys4jgyllayNEHGaZ6RvmvOOcFg9fzd8ldtC+pWx6td53MKJ86Vns2zDOaCynjnopeLbdJk7eFvaXr/SwyLW/1D6iv13N6SF6+h0K3tOcxoPvImJt2lC6U1qJ7vnJsUH2gU/lvh4VHGbsonj5syJmekybfbwt6Ucfdj5pMHaS8Re+XUzEuI+MA9Wel3SW/+HFKGQngicbP5rdq8asHqY0inYgzsD+mxbjV3Q0/EBzlZSEE+6uhHC8ovHib72LxXasN2d0PrIJVnfIfPGX3qcRpmPFOmXtwDJ2Fd/7Svf5D3Q0eEcza8MyF53hmBWwEOmT12URUaLws+hUvh9rbHDQg+MlvRm+pVEhckIcrm9o4Q+m6AA2sOPvx/WR7rIznSxLbW1iawoRl9srmny8XR9rdU+z0al3TjNopVCPpnoARvezNlzRnTpelQ1N4YyLBuxM8BzUOevu8EwyExd+k7m5eH36QtnwmAbjeeRihpl/WLamqBCjyLFX9zmdHa37ukhOlF+clkWxc8GzWHFJxKxuvDYmlU+4Y4cZf9V2P3c066vdL1pxDYk6t8pJ6YGtEvHRD5Tfh1fgQQBtsh1MaGET2kbUBVf+7aQIRPmOTn+vaJ9q14k3CI3tlR2nhmgnqKLOhjW6/aKTRpONRzTGBm78Y4nJxs/dr5Gt7SjHThJLJJG+yrWhMelx0QiWCDRLIknUOWsET/kpvODT4z3WBm9MVcGyNU3YJ2L+qchDqg3Od6NjwvSxjfpJrJ9GiJ6/Lal8whw77PjH/MTsC4bdTGmygpsa2Inv+Z93GlhJXXDdtsl/D2kweKUHmmrHOkmHg0dTPbhTmHbJqb3cuVuJkuqgGt1GZqKo8zMr/lVxj7W1ia0M/OnxYnNtN+31YuPHMR5Xnr/rSY2Lhuyh4FWNCf29mN3ar8mx3ZHg0eoPys9ers9nxnT67kOgPncucFljog3xfhoQPX9bUv17k7EjiMRf30WvY6q/G5nhq+CABM84t5SYnM0PdKeBldQF100Q/yf2+54u8/f0Sp7bC1pVcCuDzmD1sKB8bH87kr5wpgZKpDqoRrdlx4IXDNR4W/m2pjDt8H5PCG3nDNqqvsvzdz2pcdEQlghUxaQl6pxVgmftM/EMtlhbtV+TY7srwfP8ER2rqq9XCZ7zOWtMtCHeTwPqxmtjUv27ydiJxV5ufvzc2Df328Hd4bED1WlgJYngWmG7+zdl31/R8m/x/1cZ3d2J4DoBjw4Wgfq8gwSzepjT1cVpRcdPdVCNbiMzUdT5mRX/qrin21pvawLVtjBBhbZzBm34fw3P3/WkxkVD9k7wjO8anYuZfzoTPEFxrP+N56+K/qQ/xx1ecuyw4+/0zb//J+7zGg5I8IxjuL/JdRpYSSK4pmOfj/9L39nJ/UcjGv/0uvwds195EBrbN+rwa+LJV5LqoBr9/V0JniCWmMx3eW1tIQbq+P5gMW1rIXib2FBPx4Kn2uT3vxBlHzsJJUgInm7Ta/a0lI0JL/+kbeVhFiWd/0Q/RZNsRZuU7W7sYrmTNy7riffTANMnk75jkWo3c+w0jb9aOatzbdOxv0eCJ1Cdo255aWSVnvwd5vqSRuPbcls6DazEXln4i2Ysxq4iWdr/+wO941Waj7c0HmU0s9Nydml8tBOmbNDsXPC4qzQb2ZpCn/NFEYev9DD/QGenAzppI3iHskpTjd2T9aq5KtRYdFYcboTJF5UPO5tVeqXpZblM/Yay0ftIAjc+KWJXBdNWJjrmIp4VosJapVn0JzsGhZ2zn2goxv9m/STeTwM6zYvMnJgcO03jb44rYtHUjo0EL5xvlZuTLJoKnkk660UEkaQbLDQ4pYvsxnt2StC54AlsgrW2lgIZJqZq4ejyOTwpmDPK5NSeapd8zu2X0B+WWhs0acGri78j8E3iX2pX1XN4DW1N8bSkafF7oD7WfPbBs507aAWybxbPG9Y8S8jB+C707+avgiq/Wqoqzt5YTCXSBOnXWckE5z6HJeNxSdeLit9nvX5c5ROerUzURUCd/2X/TDyHJzFCqPeRz5vd0uyyKifWYXOO9kGwxY7XdV6szScNxk6j+Fu7m8ezpeABsG3MXUFXAxOADdGJmr8iEGwLI6QtHjmD4IE9QFyxyYfA84WZerJ3F0guYE+IPjANvgXVLy9JA8ED+4GcDuS8Mg6AnWLuJlSfjL0SC+yMYppfTndGXk/IAIIHAACgF0DwAAAA9AIIHgAAgF4AwQMAANALIHgAAAB6AQQPAABAL4DgAQAA6AUQPAAAAL0AggcAAKAXQPAAAAD0AggeAACAXtBe8J6WNMtsKRSxyRI3xct/XdYlIqZ3/60rVMfeS9fpuxT9MjIv6Gg4prx0PNuut5RNr+hiYEqxRN+X90jLWbbeR5X9yCMliTglbiQcnzBsUO+W+44G5+fab0dndDm9MeVQxPmzL07JoVhpHae2HAAAPHNaCt6fdJv9TB9n6xpu1W+wtsn9NQ3Pf1wn9Kc7us7/bUq/+AVARXK+u2r/tvzHz5RNfnWS+Vd6mL0T4uzWYLIvhRWJ3xaIjL4R3bzJ/+OtU3Q2th+ziKmC4ROODaXaVqZGnSrG+I8pzOjUoVJVgl/RRX5nYmYEcHIdffu7LoUSazsAABwmHU5pmiReldxr6kip5BpUzdXf665Qob4bWguyFR23OGFYxLWKoIihKg7pFSS0b/du4ZMovg2l/5f977cvaG8CCB4A4LnRWvBWDwvKi2rRzuZVt40Li0s5Ua8x4tMq4frVc9fbWkDj7YoKgz/dWmxW4KqE0tx1VQlepU8kDBsaCJ4WZF1FOHfuzAEAoC+0EzyTaMs1iaqSeCq5G1Hwknqx1YpCHJ3sT53pO4G522oueGY/77c9vZ8neEFb2wsey4YmghcR0PX0KwAAPH9aCV6YTCVVSTyV3PXfO5u69BJ/QVvBK4nKmqjgBT5pK3hMGxoJnosUv1/UIpzu/A4AAPtNd4JnknFzwTPHG0xo0aKCbUhcLHSbW0xpRgXPfLcQPEGb3/AaCl5gQ2vBk8TPAQAAz5V2U5pqxd93zupGuRz/eyFacpVgc8HTKxxfl6dI5e9m15c0Gt82vANZ0dNiQoMXpzSa3SuRWj18psnZKxqctJnS1KsvXwze0UxN/4m7o/kHOjsd0IkreK1WaVb5hGkDW/DkHeh7GmWzwr/qeMPj4M7VYsUVgggAeC60XLQil7R/cn4POqWLq1uaXcaSOEfwBMHCEHHM7CZ81o3FIy2nk/IzffMpXbaZ0pQ8LWlaLNCRCz9+ofnsg9jPv6Nr/hxetU8YNjS6w/OfJZQxm0eem9RA8AAAz42Wggd46N/w1iILAADgWwHB64yVfkC9eNuMnvps/fA8AACAToHgdYk/LbvR69EAAAB0CQQPAABAL4DgAQAA6AUQPAAAAL0AggcAAKAXQPAAAAD0AggeAACAXgDBAwAA0AsgeAAAAHpBS8Grq2FX94b+Z4ypjPAtXyOmXwjt1LuLtWUP2nmwwHcAHDQbCV63A7+qpty+UFXbzvDNk6GJyVlO93WvdvkW7TTV1qsqM2yHLfQnCJ5HYkwAsGdA8NjsueDtczJ+LoIHPCB44LDYruDZJHye0fTqggZqqk2W13Hq3tlBU0yJuptXfkfCfV9lIQC/0Z2p7h2em4FK1m6bnM0t78Oy1SIrjudeeaXqUj11FGV8IlspPp4ddbHTxxS+n/5Oi8IW0cb8jp7MPmIvelrOKLs4NceUtmY0W9qjWsFZn9PdWgvz05JmmW2T2ET8s9nSaVez/sSyleU7W/LpLWXTq3UZpsGI8sInBnYZqe6wdp5n13RVxMyPqcQv/SXaN/5U7sPcMaHorq8DsCk7ETzZydeFTKc0GvgVxCWcK3K/yKoYnHdX8YoEVoDenNH5yIqOHsz54i+9TyMSV7NsW0UbZHHXoyFN5kaon75QNjymwXjuJZ8GFALPi0la8F7Sm+FbGhUJ8ZGW1ze0sMlMFQF+5SRMI4CT69A/nd3hRQoFKwH8WYiK32d4d3gsWy21vjOCJ4W/KIx8T7OREJdSn2lSKFiyPu4m/tN2inO4hYxn74TAl/2zus/p7Gjdh8UAo1wIZHyqPDEmZJ/YRl8HoCXdL1pxO380QVQNknSCUoP26AfK792isDohBEnICtBgQosmd3SV8AQvaava75jO8j9KyUvbliiSW0dtMnZg7KeTo0jcNUlJ78OcLuxK8FTbYxdLMZoIXr2tBbW+s3d4bgwjbVC+8AsH6+PG+1aXguedN4hLxVhS+8X8yBkTW+jrALRkN1Oapf3MAG4seInv+Z/XJqc2tBG8sM2VQlGZVJhw7WXsF02OPiZZDi4uKS9NKUYIEmtbTAzkNGZ+m5iabiJ4CVsttb4zsfYSeTneVW1K9K0OiNqp7HEuIPz/W9TnJxEf1bd7a30dgJYckOCZwRW7q5Sbf8VYm5zakEhKLFutjZH2q42ZeGNw7WXsxxMB/7eZF840nUdngifa9rCgfGx//xKbO11WYo8FL7i7OQTBi91Z17V7i30dgJYc3B1e8pyW2uTUhi4ET+wmE882pnO49jL2ayQCCil+emFQ9LgdCp7L6mGuF2BE/bnHghe06RAEr+Ud3jb6OgAtOSDBMwOI+5tcbXJqQzeCp/d7HS6y2RSuvYz9GolAQVVcBVsSPElZUFz2UfAEyhcx4an6Da8bonaq87oCp20I7KucguSMiS30dQBaskeCJ1AD62XwI/eayCo9+ZjC9SWNxrflttQmpzaYBBosmjGwbTUr10rL1eUd0g1lo/ftr4a59jL2S4uA9MV7GmWzIg76LS/HFaJm+kvqofgUj7c0HjmPPtjl/VUJN9mfOLY61PqOKXjfdJVmSvDER41WaSbGhPj7Vvo6AC3ZSPCSc/NsEbCIwTD/sH7GLpaI/Ofw5HM92Q0t/N+OuALQhNLzU2Jzk1sjW/3fv/Tij+vY84Rcau2ti1eYSHki8EjLWbZ+3izxfBXrtWdJzKMPpWf/fgljX5DuT2lbub7jCp6g0XN4uxU88WH6OTyXujGh2EJfB6AlLQUPANAdzBkTAMBGQPAA2Ckrery9okm+MHfD9i408vIEAECnQPAA2DX+tHzV6/EAAJ0CwQMAANALIHgAAAB6AQQPAABAL4DgAQAA6AUQPAAAAL0AggcAAKAXQPAAAAD0AggeAACAXtBS8OreL1j/dvpnyzbe3dlrTB+rejH0HsN7FykAYNdsJHjdJndeOZdvRyIBQ/A6ZleC1/15Dl/wDvdiA4A6IHhsIHi75XAF7/CBT8DzZLuCZ0XgPKPp1QUN1JSnLA/i1LOzgyuYGpVb5CqZ+x7CQoB+oztTjTs8NwNVU81tk7PFygPV2mrxS6bUl9ZJ8rSkWWbPKTbhk2y2pCfzZ8vqYUH52JZyqSutwyn9wygj08QnfsmccaaP3TbppnzCjauhuGub/k6Lwhbhl/zOHNNesNnjVNzhbeKT2jJCHdDIJx3Hv+sxAUCEnQie7Ly2oOTqYUqjgV+DS8K5w/OLZ4pBd3cVf9O8HWxvzuh8ZAeYHqT54i+9TyMSV71sW0UbZFHMoyFN5kaon75QNjymwXgeiFSaSFFclex/ptz149OcxoNjkTQ/myRiCo8GFeS/0n3+g/jcLdopBHB6SdntOoGzCoWyfWLjekV3qi2poqgpmD5R8O5mtOC9pDfDtzQqRE745fqGFlXiWCN4fJ8wC8UWx+1ihiTtk27j3/WYACBO94tW3EFiOnxZGKsGU1rwVCIJqivrApmB+NrBFiT0tvAEL2mr2u84qMKtbQvvLJKo48UuIFyMj/yq1eq7J+XErK7yU78/VfhcfdeJH9cnsXOa71b6uw6WTyyJuBq0iIm7E0YC5ghe5z6xf9uJ4HUcf7Vfh2MCgAp2M6VZ2s9UcA4GU0rwEt/zP4+eexMSSYBpq06GERv9ZMHGtEtO2eW3kakigWpbTADkd0+cz40vU0mm6njqc0dAN/JJwt+1MHxSwDtPrYh5NBc83ydVY2ETnzQhcZ6dxF/QekwAEOeABM8Mwthdpdz8JB099yZwkgA3kUXarzZeQvUp/zYnNndqSKISh3ue8rZus2nvRoLnfN7IJ90m96RPCnjn+SaCF8RhM5/w4fT1ruNf7pPrrd2YACDGwd3hJc9piZ57EzhJIG2rSoZbnKZZPczp6uK0LFqqbd7UZZSqROuhjrftK/zuknvUJwW883wTwduiT+rh9PWO47/FMQGA5YAEzwwM7m9y0XNvAicJMGxV+70OF9l0SCggsh1veAsAYr8dBWi7At+yfsOJ+CR2TvPdSn83JPSJZR8FT7ADn1ST8knH8Vf7bXdMACDZI8ETqAHzMvjxek1k9Z18TOH6kkbj23JboufeBHv34y+aMbBtNSvSSqsg5ZLsG8pG75tf5T7e0niU0cweyy5l9/2rVmm+cpbRy10XdJ39SONSYu5+lWbaJx2v0uT6RJGIq2HngvdNV2mmfdJt/DseEwBUsJHgJefc2R3eIjr5/MP6GbtY0pAC5z6H9+KULrKb8Hmy6Lk3pPRclNiCaUOurf4zR/LZpEu6XsR+Y0ohH7WYUSan7IpjxZ+vC37Xkos6rheRZ506fg6P4xMZ1+JZrU2fOeP7RFEXV0NS8NTFmvl+sLW465GU2pXwiTluZ6/2S/qk4/h3OiYAiNNS8AAAu4c5swIAiALBA2AvWdHj7RVNcnsHbmc/Ii9ZAACwgOABsK/IaV7Oa/QAACwgeAAAAHoBBA8AAEAvgOABAADoBRA8AAAAvQCCBwAAoBdA8AAAAPQCCB4AAIBeAMEDAADQCzYQPPc1R4f6yiP7klz5nsD/OP/e00d71fsaj8KyLCwOzNYq3CoC7r8BACDBAQqeSdydvhUegldGx7Pdi5u3DAQPANASCB4Ez/zdBYIHAHh+bFfwbHmQ84ymRekXWfbDqWdneVrS1CldczSc0LSojSUxSdj8vbxFkh7rPYQdC56wYZZZO8V2NKRx8fJfQwOfrB4+08SWS5HH+lXas0XBUwJi2u5vgV8alIfhxD8oDxMrSSToVPD8MkjShjxeWsmWB5r+7pQxEm106gtKyiWYEmWJUjD6k23XeXatq7pXtEvHyy2ZJMfYmPKFPybKJbqOhu/pU/Y2eoHJ8knSBlMuaPADXajYixhc/kZTU5poXSPREildlc0i/QmAkO0uWilqdK0LRa4epjQafFdO2qs/KD87psFoagaC6NT5iAbRApScOzy/eKYY7HdXW37T/J90m/1MH2dLp8BqzFamT1TB1mMaZl/08Z6+UKYSQlvBa0L6Dq9JAdCkreJfqgCoSIaTuUnAyl7RJzhV2lsh+pGsRvDxdp0sV/c0GwlBiNitk/tLejN8S6MioYt+en1DC3shYGM2+Vz0Y1W0lVulvwSvP+l2icQ/eEcz1deFYM3eCYHxxsfjZ8omv66L4kb38+Ngx40UlirBq/MJxwYjeO6FmDimKgIdXNCY9vnFiWeyqsTSHA+AanYieOU7vzCZqoET3EHI/U4iyT0tePp4vljqgbWbaVdLpNglyyfu3djaep1g9kHwKnypEpQTF2b89X7HQaX7eL/YLtrHVcld3LFVCrDxiSv4EmXbSUfTrmF/0u3y7nJVHBj9RLXNFR8dm3K8zDlb+SSGb0P5/yX/B+0L7QegCd9A8Oo7/Br9eZBURdevF7yq45nvbXGwBBXF7eYm7U18wk1kG5MQvCARGdTnTnJn2Sp2qxCZQEC7xp/2LrZwmjQqLC5VPlG+jF24peH0p2i7om3xp4zXWxGfaP+qHm9JnwjSNpT7Q73g2bbIaczcuVsFgMfeC174eUrwTLL2B5jdtnXHYAZn+fcpY0NjwasQnIMQPOdzlq02npFYqa0+obbHtKM0PSZaU5HEk8ldxSbWfr2VfcCA2Z+4gqf3835f8+OjbPBt3EDwWDaU+4M+ZpXgCYKLlJfOFDIA9TzbO7zGCWZDSgO1wNjWWPAqfHIQgtfyDm9bFyJVVNhQlcR5yb2rqUt7vnR/irYrsK2iP/nx6fgOj2dDuW2l71TEqECKn1osUxMXABz2QPBMJw8SXtVUUErwzPFaLRRoT3RwG/ubC56x0fOJPsceCJ5pb9kGgUqYjg+Y8df7vd7igqII6px+MjVtayN46rtvOltkw+1P0XYFtkV8LtDfde8+ddyj8YqMt5RPeDaU21b6TjRGHpx9ADDsheA1W6UpUInVrOQyH5WRqzRfl6dS5NXg9SWNxrdOWzpErdD7bm2DON988r0QXiEcjQVP8E1XaVrBrfC/oMkqzaSt4gjh6jv5m9MNZaP3JdHvDr2St7S6cf6Bzk4HdNJK8AQqZq9K04byN6zr7Eca130vBrM/RdsViIDxb2m17GeanL2iwYkbnzarNGt8wrKhieAJQR7/SFmx6lPHbFj1O6/pf7G2g36yH4InST6H52I7up3Hjww6KXCluX75Q/dN+2eikojkUHouTZzv6pZml8LWNoInWD3M189WyST0KaPznUxpClRychYbuDYofHtrnsPjxD9YVCGfYbuk6+A5sQ4p9Tn9zNx89iGaxFmCJwgWaQwuKLv2nsVkwetPPMGTiIvI6WQ9HuRzqfMpXQbxKY8t1nN4lT7h2NBE8AT+c33R52sNpv9B8IBlu4IHADhw4tPrABwiEDwAwBr1gPr6bTP6bT/bfAEAALsDggcAcPCnluU0ZOQVbwAcIBA8AAAAvQCCBwAAoBdA8AAAAPQCCB4AAIBeAMEDAADQCyB4AAAAegEEDwAAQC+A4AEAAOgFEDwAAAC9AIIHAACgF0DwAAAA9AIIHgAAgF4AwQMAANALIHgAAAB6AQQPAABAL4DgAQAA6AUQPAAAAL0AggcAAKAXQPAAAAD0AggeAACAXgDBAwAA0AsgeAAAAHoA0f8DuSPET9cdN/wAAAAASUVORK5CYII=)\n",
        "\n",
        "Complete the function `is_anagram`,\n",
        "which takes in two words as its arguments and\n",
        "returns `True` or `False`. \n",
        "\n",
        "Complete this program without using built-in language\n",
        "features. Use selection or repetition logic instead and\n",
        "develop your own algorithm."
      ],
      "metadata": {
        "id": "WxtzqUKSlZzB"
      }
    },
    {
      "cell_type": "code",
      "source": [
        "def is_anagram(string1, string2):\n",
        "    string1 = string1.lower()\n",
        "    string2 = string2.lower()\n",
        "\n",
        "    if len(string1) == len(string2):\n",
        "        sorted_string1 = sorted(string1)\n",
        "        sorted_string2 = sorted(string2)\n",
        "\n",
        "        if(sorted_string1 == sorted_string2):\n",
        "            return True\n",
        "        else:\n",
        "            return False\n",
        "\n",
        "    else:\n",
        "        return False\n",
        "\n",
        "    "
      ],
      "metadata": {
        "id": "HNk3pxsEmV4v"
      },
      "execution_count": null,
      "outputs": []
    },
    {
      "cell_type": "code",
      "source": [
        "is_anagram(\"cat\", \"dog\")"
      ],
      "metadata": {
        "id": "62pgIfnLmdMt",
        "colab": {
          "base_uri": "https://localhost:8080/"
        },
        "outputId": "c3b0c056-d183-4f1d-dda8-cde165b97e75"
      },
      "execution_count": null,
      "outputs": [
        {
          "output_type": "execute_result",
          "data": {
            "text/plain": [
              "False"
            ]
          },
          "metadata": {},
          "execution_count": 18
        }
      ]
    }
  ]
}