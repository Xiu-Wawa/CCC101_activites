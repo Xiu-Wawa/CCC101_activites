{
  "nbformat": 4,
  "nbformat_minor": 0,
  "metadata": {
    "colab": {
      "name": "hw1.ipynb",
      "provenance": [],
      "collapsed_sections": [],
      "include_colab_link": true
    },
    "kernelspec": {
      "name": "python3",
      "display_name": "Python 3"
    },
    "language_info": {
      "name": "python"
    }
  },
  "cells": [
    {
      "cell_type": "markdown",
      "metadata": {
        "id": "view-in-github",
        "colab_type": "text"
      },
      "source": [
        "<a href=\"https://colab.research.google.com/github/Xiu-Wawa/Python_activities_CCC101/blob/main/hw1.ipynb\" target=\"_parent\"><img src=\"https://colab.research.google.com/assets/colab-badge.svg\" alt=\"Open In Colab\"/></a>"
      ]
    },
    {
      "cell_type": "markdown",
      "metadata": {
        "id": "CPCFO77o5mNN"
      },
      "source": [
        "0. Evaluate the following numerical expressions in your head, then use the Python interpreter to check your results:\n",
        "\n",
        "> 1. `5 % 2`\n",
        "2. `9 % 5`\n",
        "3. `15 % 12`\n",
        "4. `12 % 15`\n",
        "5. `6 % 6`\n",
        "6. `0 % 7`\n",
        "7. `7 % 0`"
      ]
    },
    {
      "cell_type": "code",
      "source": [
        "7 % 0\n"
      ],
      "metadata": {
        "id": "yzJCaX8ehgBJ",
        "colab": {
          "base_uri": "https://localhost:8080/",
          "height": 172
        },
        "outputId": "d6c51e1b-1dfc-461f-e48a-00dc40a57626"
      },
      "execution_count": null,
      "outputs": [
        {
          "output_type": "error",
          "ename": "ZeroDivisionError",
          "evalue": "ignored",
          "traceback": [
            "\u001b[0;31m---------------------------------------------------------------------------\u001b[0m",
            "\u001b[0;31mZeroDivisionError\u001b[0m                         Traceback (most recent call last)",
            "\u001b[0;32m<ipython-input-29-7dd335db2965>\u001b[0m in \u001b[0;36m<module>\u001b[0;34m()\u001b[0m\n\u001b[0;32m----> 1\u001b[0;31m \u001b[0;36m7\u001b[0m \u001b[0;34m%\u001b[0m \u001b[0;36m0\u001b[0m\u001b[0;34m\u001b[0m\u001b[0;34m\u001b[0m\u001b[0m\n\u001b[0m",
            "\u001b[0;31mZeroDivisionError\u001b[0m: integer division or modulo by zero"
          ]
        }
      ]
    },
    {
      "cell_type": "markdown",
      "metadata": {
        "id": "e9Vl-ekcd9m1"
      },
      "source": [
        "1. Take the sentence: *All work and no play makes Jack a dull boy*. Store each word in a separate variable, then print out the sentence on one line using print."
      ]
    },
    {
      "cell_type": "code",
      "metadata": {
        "id": "8bn8iCTueDHe",
        "colab": {
          "base_uri": "https://localhost:8080/"
        },
        "outputId": "52e27d61-1277-4481-fed1-fba248a5a111"
      },
      "source": [
        "a = 'All'\n",
        "b = 'work'\n",
        "c = 'and'\n",
        "d = 'no'\n",
        "e = 'play'\n",
        "f = 'makes'\n",
        "g = 'Jack'\n",
        "h = 'a'\n",
        "i = 'dull'\n",
        "j = 'boy'\n",
        "\n",
        "\n",
        "print(a + ' ' + b + ' ' + c + ' ' + d + ' ' + e + ' ' + f + ' ' + g + ' ' + h + ' ' + i + ' ' + j + '.')"
      ],
      "execution_count": null,
      "outputs": [
        {
          "output_type": "stream",
          "name": "stdout",
          "text": [
            "All work and no play makes Jack a dull boy.\n"
          ]
        }
      ]
    },
    {
      "cell_type": "markdown",
      "metadata": {
        "id": "PhOQH4jzeEME"
      },
      "source": [
        "2. Add parenthesis to the expression `6 * 1 - 2` to change its value from `4 `to` -6`."
      ]
    },
    {
      "cell_type": "code",
      "metadata": {
        "id": "mnUdkKDrelxD",
        "colab": {
          "base_uri": "https://localhost:8080/"
        },
        "outputId": "c720825c-805e-43d4-df13-179a695c5b14"
      },
      "source": [
        "6 * (1 - 2)"
      ],
      "execution_count": null,
      "outputs": [
        {
          "output_type": "execute_result",
          "data": {
            "text/plain": [
              "-6"
            ]
          },
          "metadata": {},
          "execution_count": 14
        }
      ]
    },
    {
      "cell_type": "markdown",
      "metadata": {
        "id": "noflS3NEkjxa"
      },
      "source": [
        "3. Store a person’s name in a variable, and print a message\n",
        "to that person. Your message should be simple, such as: \n",
        "```\n",
        "“Hello Eric, would you like to learn some Python today?”\n",
        "```\n",
        "\n",
        "\n",
        "\n"
      ]
    },
    {
      "cell_type": "code",
      "metadata": {
        "id": "VspP__Xzkuv9",
        "colab": {
          "base_uri": "https://localhost:8080/"
        },
        "outputId": "89483271-3137-45c1-ae92-e2583d296709"
      },
      "source": [
        "name = 'Joshua'\n",
        "\n",
        "print(name + \", let's learn some Python today!!\")"
      ],
      "execution_count": null,
      "outputs": [
        {
          "output_type": "stream",
          "name": "stdout",
          "text": [
            "Joshua, let's learn some Python today!!\n"
          ]
        }
      ]
    },
    {
      "cell_type": "markdown",
      "metadata": {
        "id": "tUvUhRPpkyZS"
      },
      "source": [
        "4. Find a quote from a famous person you admire. Print the\n",
        "quote and the name of its author. Your output should look something like the following, including the quotation marks:\n",
        "```\n",
        "Albert Einstein once said, “A person who never made a mistake never tried anything new.”\n",
        "```\n",
        "\n"
      ]
    },
    {
      "cell_type": "code",
      "source": [
        "print('Elon Musk, the CEO of Tesla Inc. once said, \"Everybody should learn to program a computer, because it teaches you to think.\"')"
      ],
      "metadata": {
        "id": "NNqgMjf4ho7c",
        "colab": {
          "base_uri": "https://localhost:8080/"
        },
        "outputId": "0d750f5c-b842-42f4-c5c9-8622bcf965c2"
      },
      "execution_count": null,
      "outputs": [
        {
          "output_type": "stream",
          "name": "stdout",
          "text": [
            "Elon Musk, the CEO of Tesla Inc. once said, \"Everybody should learn to program a computer, because it teaches you to think.\"\n"
          ]
        }
      ]
    },
    {
      "cell_type": "markdown",
      "metadata": {
        "id": "lkHlyWQslSSw"
      },
      "source": [
        "5. Repeat Exercise 4, but this time store the famous person’s\n",
        "name in a variable called `famous_person`. Then compose your message\n",
        "and store it in a new variable called `message`. Print your `message`."
      ]
    },
    {
      "cell_type": "code",
      "metadata": {
        "id": "KNQQ_qnBla9O",
        "colab": {
          "base_uri": "https://localhost:8080/"
        },
        "outputId": "91632848-1318-4ff4-9c07-530be2592138"
      },
      "source": [
        "famous_person = \"Elon Musk\"\n",
        "message = \"Everybody should learn to program a computer, because it teaches you how to think.\"\n",
        "\n",
        "print(famous_person + ', the CEO of Tesla Inc. once said, ' + message)"
      ],
      "execution_count": null,
      "outputs": [
        {
          "output_type": "stream",
          "name": "stdout",
          "text": [
            "Elon Musk, the CEO of Tesla Inc. once said, Everybody should learn to program a computer, because it teaches you how to think.\n"
          ]
        }
      ]
    },
    {
      "cell_type": "markdown",
      "metadata": {
        "id": "B50CgGtZlnRN"
      },
      "source": [
        "6. Store your favorite number in a variable. Then, using\n",
        "that variable, create a message that reveals your favorite number. Print that message."
      ]
    },
    {
      "cell_type": "code",
      "metadata": {
        "id": "j4my7T_Glqr5",
        "colab": {
          "base_uri": "https://localhost:8080/"
        },
        "outputId": "5fc246e8-c5b3-45ad-d483-c0b2d638e305"
      },
      "source": [
        "fave_number = 7\n",
        "msg = \"My favorite number is \" + str(fave_number)\n",
        "\n",
        "print(msg)"
      ],
      "execution_count": null,
      "outputs": [
        {
          "output_type": "stream",
          "name": "stdout",
          "text": [
            "My favorite number is 7\n"
          ]
        }
      ]
    },
    {
      "cell_type": "markdown",
      "metadata": {
        "id": "UOISszWpeqI7"
      },
      "source": [
        "7. The formula for computing the final amount if one is earning compound interest is given on Wikipedia as:\n",
        "![compoundInterest.png](data:image/png;base64,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)\n",
        "\n",
        "Write a Python program that assigns the principal amount of `$10000` to variable `P`, assign to `n` the value `12`, and assign to `r` the interest rate of `8%`. Then have the program prompt the user for the number of years `t` that the money will be compounded for. Calculate and print the final amount after `t` years.\n",
        "\n",
        "\n"
      ]
    },
    {
      "cell_type": "code",
      "metadata": {
        "id": "3tg_gJLIfZrq",
        "colab": {
          "base_uri": "https://localhost:8080/"
        },
        "outputId": "c2dbb991-bd9a-4817-f29c-47eda7fd5e2f"
      },
      "source": [
        "p = 10000\n",
        "n = 12\n",
        "r = 0.08\n",
        "year = input(\"Year: \")\n",
        "t = int(year)\n",
        "\n",
        "final_amount = p * ((1 + r / n) ** (n * t))\n",
        "\n",
        "print(final_amount)\n"
      ],
      "execution_count": null,
      "outputs": [
        {
          "output_type": "stream",
          "name": "stdout",
          "text": [
            "Year: 20\n",
            "49268.02770809699\n"
          ]
        }
      ]
    },
    {
      "cell_type": "markdown",
      "metadata": {
        "id": "1Cp4NZUjm06B"
      },
      "source": [
        "8. Write a Python program that gets the amount of electricity used in kilowatt-hours and the cost of electricity per kilowatt-hour. Compute and display the total amount of the electric bill, including an 8% sales tax."
      ]
    },
    {
      "cell_type": "code",
      "metadata": {
        "id": "XKuPHGUonAdA",
        "colab": {
          "base_uri": "https://localhost:8080/"
        },
        "outputId": "ab6f0611-3590-40ca-d1b2-af8c599ee6e4"
      },
      "source": [
        "sales_tax = 0.08\n",
        "elect_used = input(\"Enter amount of electricity used in (kW-h): \")\n",
        "cost = input(\"Enter cost of electricty/kW-h: \")\n",
        "\n",
        "total_amount = float(elect_used) * float(cost) * sales_tax\n",
        "\n",
        "print(\"Total amount of the electric bill: \" + str(total_amount))"
      ],
      "execution_count": null,
      "outputs": [
        {
          "output_type": "stream",
          "name": "stdout",
          "text": [
            "Enter amount of electricity used in (kW-h): 0.25\n",
            "Enter cost of electricty/kW-h: 0.5\n",
            "Total amount of the electric bill: 0.01\n"
          ]
        }
      ]
    },
    {
      "cell_type": "markdown",
      "metadata": {
        "id": "1kNkxPDJnD4u"
      },
      "source": [
        "9. Write a Python program that asks for three numbers corresponding to the number of times a race car driver has finished first, second, and third. The program will compute and display how many points the race car driver has earned given 5 points for a first place, 3 points for a second place, and 1 point for a third place finish."
      ]
    },
    {
      "cell_type": "code",
      "metadata": {
        "id": "fg_p0VUnnaa_",
        "colab": {
          "base_uri": "https://localhost:8080/"
        },
        "outputId": "9cf4dc22-8ba5-4d7e-f722-a0a44d0845b3"
      },
      "source": [
        "print(\"Input number of times a race car driver has finished:\")\n",
        "first = input(\"First: \")\n",
        "second = input(\"Second: \")\n",
        "third = input(\"Third: \")\n",
        "\n",
        "compute_points = (int(first) * 5) + (int(second) * 3) + int((third) * 1) \n",
        "print(\"Total points: \" + str(compute_points))"
      ],
      "execution_count": null,
      "outputs": [
        {
          "output_type": "stream",
          "name": "stdout",
          "text": [
            "Input number of times a race car driver has finished:\n",
            "First: 3\n",
            "Second: 1\n",
            "Third: 2\n",
            "Total points: 20\n"
          ]
        }
      ]
    },
    {
      "cell_type": "markdown",
      "metadata": {
        "id": "2Kn2dZ6MfCEB"
      },
      "source": [
        "10. You look at the clock and it is exactly 2pm. You set an alarm to go off in 51 hours. At what time does the alarm go off?\n",
        "\n",
        "Write a Python program to solve the general version of the above problem. Ask the user for the time now (in hours), and ask for the number of hours to wait. Your program should output what the time will be on the clock when the alarm goes off."
      ]
    },
    {
      "cell_type": "code",
      "metadata": {
        "id": "wPT2E3O6mL3I",
        "colab": {
          "base_uri": "https://localhost:8080/"
        },
        "outputId": "f3599021-2341-4c0e-d4ec-3ed503e56b56"
      },
      "source": [
        "time_now_str = input(\"What time is it (in hrs.)?: \" )\n",
        "time_now = int(time_now_str)\n",
        "hours_to_wait_str = input(\"How long to wait (in hrs.)?: \" )\n",
        "hours_to_wait = int(hours_to_wait_str)\n",
        "time_off = (hours_to_wait % 24) + time_now\n",
        "print(\"Time alarms off in : \" + str(time_off) + \" hrs.\")"
      ],
      "execution_count": null,
      "outputs": [
        {
          "output_type": "stream",
          "name": "stdout",
          "text": [
            "What time is it (in hrs.)?: 12\n",
            "How long to wait (in hrs.)?: 1\n",
            "Time alarms off in : 13 hrs.\n"
          ]
        }
      ]
    }
  ]
}