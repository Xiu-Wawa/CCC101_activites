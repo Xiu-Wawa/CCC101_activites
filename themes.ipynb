{
  "nbformat": 4,
  "nbformat_minor": 0,
  "metadata": {
    "colab": {
      "name": "themes",
      "provenance": [],
      "collapsed_sections": [],
      "toc_visible": true,
      "include_colab_link": true
    },
    "kernelspec": {
      "name": "python3",
      "display_name": "Python 3"
    }
  },
  "cells": [
    {
      "cell_type": "markdown",
      "metadata": {
        "id": "view-in-github",
        "colab_type": "text"
      },
      "source": [
        "<a href=\"https://colab.research.google.com/github/Xiu-Wawa/Python_activities_CCC101/blob/main/themes.ipynb\" target=\"_parent\"><img src=\"https://colab.research.google.com/assets/colab-badge.svg\" alt=\"Open In Colab\"/></a>"
      ]
    },
    {
      "cell_type": "code",
      "metadata": {
        "id": "9oa7-2krkVUO",
        "outputId": "686811dd-684e-4157-ead0-b0c143a077df",
        "colab": {
          "base_uri": "https://localhost:8080/",
          "height": 40
        }
      },
      "source": [
        "from IPython.display import HTML\n",
        "\n",
        "HTML('''\n",
        "<style>\n",
        "  html {\n",
        "    --button-color: #333;\n",
        "    --button-text: #AAA;\n",
        "  }\n",
        "  html[theme=dark] {\n",
        "    --button-color: #AAA;\n",
        "    --button-text: #333;\n",
        "  }\n",
        "  button {\n",
        "    background: var(--button-color);\n",
        "    color: var(--button-text);\n",
        "    font-size: 16px;\n",
        "  }\n",
        "</style>\n",
        "<button>click me</button>\n",
        "''')"
      ],
      "execution_count": null,
      "outputs": [
        {
          "output_type": "execute_result",
          "data": {
            "text/html": [
              "\n",
              "<style>\n",
              "  html {\n",
              "    --button-color: #333;\n",
              "    --button-text: #AAA;\n",
              "  }\n",
              "  html[theme=dark] {\n",
              "    --button-color: #AAA;\n",
              "    --button-text: #333;\n",
              "  }\n",
              "  button {\n",
              "    background: var(--button-color);\n",
              "    color: var(--button-text);\n",
              "    font-size: 16px;\n",
              "  }\n",
              "</style>\n",
              "<button>click me</button>\n"
            ],
            "text/plain": [
              "<IPython.core.display.HTML object>"
            ]
          },
          "metadata": {
            "tags": []
          },
          "execution_count": 6
        }
      ]
    }
  ]
}