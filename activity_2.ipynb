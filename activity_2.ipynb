{
  "cells": [
    {
      "cell_type": "markdown",
      "metadata": {
        "id": "g2ZeQkzG9TM0"
      },
      "source": [
        "0. Define a function `draw_square()` that displays a 3x3 set of asterisks."
      ]
    },
    {
      "cell_type": "code",
      "execution_count": null,
      "metadata": {
        "colab": {
          "base_uri": "https://localhost:8080/"
        },
        "id": "U_Rjsd31Xovd",
        "outputId": "2c35e5ed-d576-4edb-f0a9-98b582ec6ad3"
      },
      "outputs": [
        {
          "output_type": "stream",
          "name": "stdout",
          "text": [
            "***\n",
            "***\n",
            "***\n"
          ]
        }
      ],
      "source": [
        "def draw_square():\n",
        "    x = '*' * 3\n",
        "    y = '*' * 3\n",
        "    z = '*' * 3\n",
        "    return x, y, z\n",
        "\n",
        "\n",
        "x, y, z = draw_square()\n",
        "print(x)\n",
        "print(y)\n",
        "print(z)"
      ]
    },
    {
      "cell_type": "markdown",
      "metadata": {
        "id": "oSs6NslK9iee"
      },
      "source": [
        "1. Define a void function `draw5_square()` that makes use of the previously defined `draw_square()` function to display a 15x3 set of asterisks."
      ]
    },
    {
      "cell_type": "code",
      "execution_count": null,
      "metadata": {
        "colab": {
          "base_uri": "https://localhost:8080/"
        },
        "id": "sSYkR6t6XqnV",
        "outputId": "77f332ed-d11e-4c65-a40e-7d12c7728d99"
      },
      "outputs": [
        {
          "output_type": "stream",
          "name": "stdout",
          "text": [
            "***************\n",
            "***************\n",
            "***************\n"
          ]
        }
      ],
      "source": [
        "def draw_square():\n",
        "    x = '*' * 3\n",
        "    y = '*' * 3\n",
        "    z = '*' * 3\n",
        "    return x, y, z\n",
        "\n",
        "\n",
        "def draw5_square():\n",
        "    print(x * 5)\n",
        "    print(y * 5)\n",
        "    print(z * 5)\n",
        "\n",
        "\n",
        "x, y, z = draw_square()\n",
        "draw5_square()"
      ]
    },
    {
      "cell_type": "markdown",
      "metadata": {
        "id": "LLlVRX-0iNcV"
      },
      "source": [
        "2. Write a program that prompts for two numbers and computes for the\n",
        "sum, difference, product, and quotient of those numbers using fruitful functions defined for each operation. Display the results as shown in the example output below:\n",
        "\n",
        "![sample_output.PNG](data:image/png;base64,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)"
      ]
    },
    {
      "cell_type": "code",
      "execution_count": null,
      "metadata": {
        "id": "X8qo-MhrYQeq",
        "colab": {
          "base_uri": "https://localhost:8080/"
        },
        "outputId": "c0a75f89-99b4-47f3-ca5d-5e93e363666e"
      },
      "outputs": [
        {
          "output_type": "stream",
          "name": "stdout",
          "text": [
            "Input two numbers: \n",
            "First #: 6\n",
            "Second #: 3\n",
            "6 + 3 = 9\n",
            "6 - 3 = 3\n",
            "6 * 3 = 18\n",
            "6 / 3 = 2.0\n"
          ]
        }
      ],
      "source": [
        "def operations(first_num, second_num):\n",
        "    addition = first_num + second_num\n",
        "    subtraction = first_num - second_num\n",
        "    multiplication = first_num * second_num\n",
        "    division = first_num / second_num\n",
        "    return addition, subtraction, multiplication, division\n",
        "\n",
        "\n",
        "print(\"Input two numbers: \")\n",
        "first_num = int(input(\"First #: \"))\n",
        "second_num = int(input(\"Second #: \"))\n",
        "\n",
        "sum, difference, product, quotient = operations(first_num, second_num)\n",
        "print(str(first_num) + ' + ' + str(second_num) + ' = ' + str(sum))\n",
        "print(str(first_num) + ' - ' + str(second_num) + ' = ' + str(difference))\n",
        "print(str(first_num) + ' * ' + str(second_num) + ' = ' + str(product))\n",
        "print(str(first_num) + ' / ' + str(second_num) + ' = ' + str(quotient))\n"
      ]
    },
    {
      "cell_type": "markdown",
      "metadata": {
        "id": "1iHLox4r8iZl"
      },
      "source": [
        "3. Define a void function `get_remaining_pizza_slices` that takes in the number of pizza slices the user have started with and how many slices have already been eaten. Compute and display the answer in a user-friendly format."
      ]
    },
    {
      "cell_type": "code",
      "source": [
        "def get_remaining_pizza_slices(slices_started, eaten):\n",
        "    slices_left = slices_started - eaten\n",
        "    print(\"You have \" + str(slices_left) + \" pizza left\")\n",
        "\n",
        "\n",
        "slices_started = int(input(\"Slices started: \"))\n",
        "eaten = int(input(\"Slices eaten: \"))\n",
        "print('')\n",
        "get_remaining_pizza_slices(slices_started, eaten)\n"
      ],
      "metadata": {
        "id": "djA2rJ3zT9Gr",
        "colab": {
          "base_uri": "https://localhost:8080/"
        },
        "outputId": "e6aff9d4-0d15-4b0b-9539-f907678726f6"
      },
      "execution_count": 8,
      "outputs": [
        {
          "output_type": "stream",
          "name": "stdout",
          "text": [
            "Slices started: 3\n",
            "Slices eaten: 3\n",
            "\n",
            "You have 0 pizza left\n"
          ]
        }
      ]
    },
    {
      "cell_type": "markdown",
      "metadata": {
        "id": "8Moky6E6FZWY"
      },
      "source": [
        "4. Write a program that asks the user to enter the radius of a circle and then computes and displays the circle’s area using a fruitful function `area_of_circle(radius)`. Use the formula\n",
        "\n",
        "   `area = PI x radius x radius`\n",
        "\n",
        "   where `PI` is the constant macro `3.14159`"
      ]
    },
    {
      "cell_type": "code",
      "execution_count": null,
      "metadata": {
        "id": "jj2S8gCkF3tP",
        "colab": {
          "base_uri": "https://localhost:8080/"
        },
        "outputId": "57406d0a-c689-43bf-babe-43491ef0ea2b"
      },
      "outputs": [
        {
          "output_type": "stream",
          "name": "stdout",
          "text": [
            "Input radius of a circle: 2\n",
            "12.56636\n"
          ]
        }
      ],
      "source": [
        "PI = 3.14159\n",
        "\n",
        "def area_of_circle(radius):\n",
        "    area = PI * radius * radius\n",
        "    return area\n",
        "\n",
        "\n",
        "radius = float(input(\"Input radius of a circle: \"))\n",
        "area = area_of_circle(radius)\n",
        "print(area)\n"
      ]
    },
    {
      "cell_type": "markdown",
      "metadata": {
        "id": "kXfaePt5kduF"
      },
      "source": [
        "5. Write a program\n",
        "that will ask for a\n",
        "number of days\n",
        "and then will\n",
        "show how many\n",
        "hours, minutes\n",
        "and seconds are\n",
        "in that number of\n",
        "days. Define your own set of functions."
      ]
    },
    {
      "cell_type": "code",
      "execution_count": null,
      "metadata": {
        "id": "BoCKy8dKk-fV",
        "colab": {
          "base_uri": "https://localhost:8080/"
        },
        "outputId": "cf29af0a-d973-4f25-dfff-c86d3502d477"
      },
      "outputs": [
        {
          "output_type": "stream",
          "name": "stdout",
          "text": [
            "How many days: 3\n",
            "In 3 day/s there are: \n",
            "hours: 72\n",
            "minutes: 4320\n",
            "seconds: 259200\n"
          ]
        }
      ],
      "source": [
        "def calculate_day(day: int) -> int:\n",
        "    hrs = 24 * day              # there are 24 hrs in a day\n",
        "    min = 1440 * day              # there are 1440 minutes in a day\n",
        "    sec = 86400 * day             # there are 86400 seconds in a day\n",
        "    return hrs, min, sec\n",
        "\n",
        "\n",
        "def calculate_day_str(day, hrs, min, sec):\n",
        "    print('In ' + str(day) + ' day/s there are: ')\n",
        "    print('hours: ' + str(hrs))\n",
        "    print('minutes: ' + str(min))\n",
        "    print('seconds: ' + str(sec))\n",
        "\n",
        "\n",
        "day = int(input(\"How many days: \"))\n",
        "hrs, min, sec = calculate_day(day)\n",
        "calculate_day_str(day, hrs, min, sec)\n"
      ]
    }
  ],
  "metadata": {
    "colab": {
      "collapsed_sections": [],
      "name": "hw2_clet_joshua.ipynb ",
      "provenance": []
    },
    "kernelspec": {
      "display_name": "Python 3",
      "name": "python3"
    },
    "language_info": {
      "name": "python"
    }
  },
  "nbformat": 4,
  "nbformat_minor": 0
}