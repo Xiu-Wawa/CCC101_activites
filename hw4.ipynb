{
  "nbformat": 4,
  "nbformat_minor": 0,
  "metadata": {
    "colab": {
      "name": "hw4.ipynb",
      "provenance": [],
      "collapsed_sections": [],
      "include_colab_link": true
    },
    "kernelspec": {
      "name": "python3",
      "display_name": "Python 3"
    },
    "language_info": {
      "name": "python"
    }
  },
  "cells": [
    {
      "cell_type": "markdown",
      "metadata": {
        "id": "view-in-github",
        "colab_type": "text"
      },
      "source": [
        "<a href=\"https://colab.research.google.com/github/Xiu-Wawa/CCC101_activites/blob/main/hw4.ipynb\" target=\"_parent\"><img src=\"https://colab.research.google.com/assets/colab-badge.svg\" alt=\"Open In Colab\"/></a>"
      ]
    },
    {
      "cell_type": "markdown",
      "source": [
        "Given Problem 1 and Problem 2. Write three different versions of your solutions. Make sure you implement each of the following at least once:\n",
        "\n",
        "a. Use a conditional test in the while statement to stop the loop \\\\\n",
        "b. Use an active variable to control how long the loop runs \\\\\n",
        "c. Use a break statement to exit the loop when the user enters a 'quit' value\n",
        "\n",
        "\n"
      ],
      "metadata": {
        "id": "vCmDq5V3iWyR"
      }
    },
    {
      "cell_type": "markdown",
      "source": [
        "# Problem 1: Pizza Toppings\n",
        "\n",
        "Write a loop that prompts the user to enter a series of pizza toppings until they enter a 'quit' value. As they enter each topping, print a message saying you’ll add that topping to their pizza."
      ],
      "metadata": {
        "id": "GoFiEUSnndFg"
      }
    },
    {
      "cell_type": "markdown",
      "source": [
        "a. Use a conditional test in the while statement to stop the loop"
      ],
      "metadata": {
        "id": "6v-9WPpRoG0x"
      }
    },
    {
      "cell_type": "code",
      "source": [
        "prompt = '''\n",
        "What topping would you like on your pizza?\n",
        "Type \"quit\" if you're finished >>> '''\n",
        "\n",
        "topping = ''\n",
        "\n",
        "\n",
        "while topping != 'quit':\n",
        "    topping = input(prompt)\n",
        "\n",
        "    if topping != 'quit':\n",
        "        print()\n",
        "        print(\"   I'll add \" + topping + \" to your pizza\")\n",
        "    else:\n",
        "        pass\n"
      ],
      "metadata": {
        "id": "BgsZgk4Suiuj",
        "colab": {
          "base_uri": "https://localhost:8080/"
        },
        "outputId": "715a64c3-eb59-4491-911c-c0c902725d2e"
      },
      "execution_count": null,
      "outputs": [
        {
          "name": "stdout",
          "output_type": "stream",
          "text": [
            "\n",
            "What topping would you like on your pizza?\n",
            "Type \"quit\" if you're finished >>> pineapple\n",
            "\n",
            "   I'll add pineapple to your pizza\n",
            "\n",
            "What topping would you like on your pizza?\n",
            "Type \"quit\" if you're finished >>> quit\n"
          ]
        }
      ]
    },
    {
      "cell_type": "markdown",
      "source": [
        "b. Use an active variable to control how long the loop runs"
      ],
      "metadata": {
        "id": "pP7wFoOtoNTw"
      }
    },
    {
      "cell_type": "code",
      "source": [
        "prompt = '''\n",
        "What topping would you like on your pizza?\n",
        "Type \"quit\" if you're finished >>> '''\n",
        "\n",
        "active = True\n",
        "\n",
        "\n",
        "while active:\n",
        "    topping = input(prompt)\n",
        "    \n",
        "    if topping == 'quit':\n",
        "        active = False\n",
        "    else:\n",
        "      print()\n",
        "      print(\"   I'll add \" + topping + \" to your pizza\")\n"
      ],
      "metadata": {
        "id": "GueOZ17FoRGo",
        "colab": {
          "base_uri": "https://localhost:8080/"
        },
        "outputId": "e572918f-b2f3-42f0-a0ff-c653dc0b0c98"
      },
      "execution_count": null,
      "outputs": [
        {
          "name": "stdout",
          "output_type": "stream",
          "text": [
            "\n",
            "What topping would you like on your pizza?\n",
            "Type \"quit\" if you're finished >>> ham \n",
            "\n",
            "   I'll add ham  to your pizza\n",
            "\n",
            "What topping would you like on your pizza?\n",
            "Type \"quit\" if you're finished >>> hotdog\n",
            "\n",
            "   I'll add hotdog to your pizza\n",
            "\n",
            "What topping would you like on your pizza?\n",
            "Type \"quit\" if you're finished >>> quit\n"
          ]
        }
      ]
    },
    {
      "cell_type": "markdown",
      "source": [
        "c. Use a `break` statement to exit the loop when the user enters a 'quit' value"
      ],
      "metadata": {
        "id": "ZpyUlgNOoR3d"
      }
    },
    {
      "cell_type": "code",
      "source": [
        "prompt = '''\n",
        "What topping would you like on your pizza?\n",
        "Type \"quit\" if you're finished >>> '''\n",
        "\n",
        "topping = ''\n",
        "\n",
        "\n",
        "while topping != 'quit':\n",
        "    topping = input(prompt)\n",
        "\n",
        "    if topping == 'quit':\n",
        "        break\n",
        "    else:\n",
        "        print()\n",
        "        print(\"   I'll add \" + topping + \" to your pizza\")\n"
      ],
      "metadata": {
        "id": "5qRAlV7l93Te",
        "colab": {
          "base_uri": "https://localhost:8080/"
        },
        "outputId": "92887e59-4b70-4256-ee2f-a90762d2b192"
      },
      "execution_count": null,
      "outputs": [
        {
          "name": "stdout",
          "output_type": "stream",
          "text": [
            "\n",
            "What topping would you like on your pizza?\n",
            "Type \"quit\" if you're finished >>> ham\n",
            "\n",
            "   I'll add ham to your pizza\n",
            "\n",
            "What topping would you like on your pizza?\n",
            "Type \"quit\" if you're finished >>> chees\n",
            "\n",
            "   I'll add chees to your pizza\n",
            "\n",
            "What topping would you like on your pizza?\n",
            "Type \"quit\" if you're finished >>> quit\n"
          ]
        }
      ]
    },
    {
      "cell_type": "markdown",
      "source": [
        "# Problem 2: Movie Tickets\n",
        "\n",
        "A movie theater charges different ticket prices depending on a person’s age. If a person is under the age of 3, the ticket is free; if they are between 3 and 12, the ticket is P10; and if they are over age 12, the ticket is P15. Write a loop in which you ask users their age, and then tell them the cost of their movie ticket.\n",
        "\n"
      ],
      "metadata": {
        "id": "lM_8ElXc9-n0"
      }
    },
    {
      "cell_type": "markdown",
      "source": [
        "a. Use a conditional test in the while statement to stop the loop"
      ],
      "metadata": {
        "id": "i-0tkxPN-MJs"
      }
    },
    {
      "cell_type": "code",
      "source": [
        "prompt = '''\n",
        "Movie ticket prices are based on age, please enter your age for your price: \"\n",
        "Type 'quit' to exit the program >>> '''\n",
        "\n",
        "age = ''\n",
        "\n",
        "\n",
        "while age != 'quit':\n",
        "    age = input(prompt)\n",
        "\n",
        "    if age != 'quit':\n",
        "        age = int(age)\n",
        "        ticket = \"Movie ticket is\"\n",
        "\n",
        "        if age < 3 and age >= 0:\n",
        "            print(ticket, \"FREE!\")\n",
        "        elif age < 13 and age >=3:\n",
        "            print(ticket, \"$10.00\")\n",
        "        elif age >=13:\n",
        "            print(ticket, \"$15.00\")\n",
        "        else:\n",
        "            pass\n",
        "    else:\n",
        "        print(\"Thank you come again :)\")\n"
      ],
      "metadata": {
        "id": "jM6l7Kt_-LHn",
        "colab": {
          "base_uri": "https://localhost:8080/"
        },
        "outputId": "1cc6f949-7a37-41a1-f030-06bafd86cd9a"
      },
      "execution_count": null,
      "outputs": [
        {
          "output_type": "stream",
          "name": "stdout",
          "text": [
            "\n",
            "Movie ticket prices are based on age, please enter your age for your price: \"\n",
            "Type 'quit' to exit the program >>> 1\n",
            "Movie ticket is FREE!\n",
            "\n",
            "Movie ticket prices are based on age, please enter your age for your price: \"\n",
            "Type 'quit' to exit the program >>> 18\n",
            "Movie ticket is $15.00\n",
            "\n",
            "Movie ticket prices are based on age, please enter your age for your price: \"\n",
            "Type 'quit' to exit the program >>> 6\n",
            "Movie ticket is $10.00\n",
            "\n",
            "Movie ticket prices are based on age, please enter your age for your price: \"\n",
            "Type 'quit' to exit the program >>> quit\n",
            "Thank you come again :)\n"
          ]
        }
      ]
    },
    {
      "cell_type": "markdown",
      "source": [
        "b. Use an active variable to control how long the loop runs"
      ],
      "metadata": {
        "id": "eyUJzyOC-SJ2"
      }
    },
    {
      "cell_type": "code",
      "source": [
        "prompt = '''\n",
        "Movie ticket prices are based on age, please enter your age for your price: \"\n",
        "Type 'quit' to exit the program >>> '''\n",
        "\n",
        "active = True\n",
        "\n",
        "\n",
        "while active:\n",
        "    age = input(prompt)\n",
        "\n",
        "    if age != 'quit':\n",
        "        age = int(age)\n",
        "        ticket = \"Movie ticket is\"\n",
        "\n",
        "        if age < 3 and age >= 0:\n",
        "            print(ticket, \"FREE!\")\n",
        "        elif age < 13 and age >= 3:\n",
        "            print(ticket, \"$10.00\")\n",
        "        elif age >= 13:\n",
        "            print(ticket, \"$15.00\")\n",
        "        else:\n",
        "            pass\n",
        "    else:\n",
        "        print(\"Thank you come again :)\")\n",
        "        active = False\n",
        "        \n"
      ],
      "metadata": {
        "id": "XldBKtsb-T9v",
        "colab": {
          "base_uri": "https://localhost:8080/"
        },
        "outputId": "00f4ea0e-899d-406b-a6f7-ec0f380134d3"
      },
      "execution_count": null,
      "outputs": [
        {
          "output_type": "stream",
          "name": "stdout",
          "text": [
            "\n",
            "Movie ticket prices are based on age, please enter your age for your price: \"\n",
            "Type 'quit' to exit the program >>> 1\n",
            "Movie ticket is FREE!\n",
            "\n",
            "Movie ticket prices are based on age, please enter your age for your price: \"\n",
            "Type 'quit' to exit the program >>> 18\n",
            "Movie ticket is $15.00\n",
            "\n",
            "Movie ticket prices are based on age, please enter your age for your price: \"\n",
            "Type 'quit' to exit the program >>> -1\n",
            "\n",
            "Movie ticket prices are based on age, please enter your age for your price: \"\n",
            "Type 'quit' to exit the program >>> quit\n",
            "Thank you come again :)\n"
          ]
        }
      ]
    },
    {
      "cell_type": "markdown",
      "source": [
        "c. Use a `break` statement to exit the loop when the user enters a 'quit' value"
      ],
      "metadata": {
        "id": "oUGAQxm2-UZn"
      }
    },
    {
      "cell_type": "code",
      "source": [
        "prompt = '''\n",
        "Movie ticket prices are based on age, please enter your age for your price: \"\n",
        "Type 'quit' to exit the program >>> '''\n",
        "\n",
        "active = True\n",
        "\n",
        "\n",
        "while active:\n",
        "    age = input(prompt)\n",
        "\n",
        "    if age != 'quit':\n",
        "        age = int(age)\n",
        "        ticket = \"Movie ticket is\"\n",
        "\n",
        "        if age < 3 and age >= 0:\n",
        "            print(ticket, \"FREE!\")\n",
        "        elif age >= 3 and age < 13:\n",
        "            print(ticket, \"$10.00\")\n",
        "        elif age >= 13:\n",
        "            print(ticket, \"$15.00\")\n",
        "        else:\n",
        "            pass\n",
        "    else:\n",
        "        print(\"Thank you come again :)\")\n",
        "        break\n"
      ],
      "metadata": {
        "id": "pPitDU2_-X0g",
        "colab": {
          "base_uri": "https://localhost:8080/"
        },
        "outputId": "a5c2ae2d-ea7f-45c4-d385-f69d8dea9cd3"
      },
      "execution_count": null,
      "outputs": [
        {
          "output_type": "stream",
          "name": "stdout",
          "text": [
            "\n",
            "Movie ticket prices are based on age, please enter your age for your price: \"\n",
            "Type 'quit' to exit the program >>> -1\n",
            "\n",
            "Movie ticket prices are based on age, please enter your age for your price: \"\n",
            "Type 'quit' to exit the program >>> 18\n",
            "Movie ticket is $15.00\n",
            "\n",
            "Movie ticket prices are based on age, please enter your age for your price: \"\n",
            "Type 'quit' to exit the program >>> quit\n",
            "Thank you come again :)\n"
          ]
        }
      ]
    }
  ]
}