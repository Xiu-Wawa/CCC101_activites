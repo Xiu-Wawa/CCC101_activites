{
  "nbformat": 4,
  "nbformat_minor": 0,
  "metadata": {
    "colab": {
      "name": "hw3.ipynb",
      "provenance": [],
      "collapsed_sections": [],
      "include_colab_link": true
    },
    "kernelspec": {
      "name": "python3",
      "display_name": "Python 3"
    },
    "language_info": {
      "name": "python"
    }
  },
  "cells": [
    {
      "cell_type": "markdown",
      "metadata": {
        "id": "view-in-github",
        "colab_type": "text"
      },
      "source": [
        "<a href=\"https://colab.research.google.com/github/Xiu-Wawa/CCC101_activites/blob/main/hw3.ipynb\" target=\"_parent\"><img src=\"https://colab.research.google.com/assets/colab-badge.svg\" alt=\"Open In Colab\"/></a>"
      ]
    },
    {
      "cell_type": "markdown",
      "metadata": {
        "id": "4U-EC8kK0t3O"
      },
      "source": [
        "**Part 1**. Write an expression to test for each of the following relationships:"
      ]
    },
    {
      "cell_type": "markdown",
      "metadata": {
        "id": "gnw_huwYzRX2"
      },
      "source": [
        "a. `age` is from 18 to 21 inclusive\n",
        "\n"
      ]
    },
    {
      "cell_type": "code",
      "metadata": {
        "id": "yOoKz7CfzDqP",
        "colab": {
          "base_uri": "https://localhost:8080/"
        },
        "outputId": "0b29d9e6-c033-410a-c04e-5ae581b3135c"
      },
      "source": [
        "age = int(input(\"Age: \"))       #Input to test the expression\n",
        "\n",
        "age >= 18 and age <= 21       #Expression"
      ],
      "execution_count": null,
      "outputs": [
        {
          "name": "stdout",
          "output_type": "stream",
          "text": [
            "Age: 5\n"
          ]
        },
        {
          "output_type": "execute_result",
          "data": {
            "text/plain": [
              "False"
            ]
          },
          "metadata": {},
          "execution_count": 55
        }
      ]
    },
    {
      "cell_type": "markdown",
      "metadata": {
        "id": "GQsFsHco0ad3"
      },
      "source": [
        "b. `water` is less than 1.5 and also greater than 0.1"
      ]
    },
    {
      "cell_type": "code",
      "metadata": {
        "id": "g9f0palH0fJF",
        "colab": {
          "base_uri": "https://localhost:8080/"
        },
        "outputId": "316858c0-e6af-490c-8076-b1266bb12ff6"
      },
      "source": [
        "water = float(input(\"Water: \"))       #Input to test the expression\n",
        "\n",
        "water > 0.1 and water < 1.5       #Expression"
      ],
      "execution_count": null,
      "outputs": [
        {
          "name": "stdout",
          "output_type": "stream",
          "text": [
            "Water: 1\n"
          ]
        },
        {
          "output_type": "execute_result",
          "data": {
            "text/plain": [
              "True"
            ]
          },
          "metadata": {},
          "execution_count": 45
        }
      ]
    },
    {
      "cell_type": "markdown",
      "metadata": {
        "id": "HacDADn10fdS"
      },
      "source": [
        "c. `year` is divisible by 4"
      ]
    },
    {
      "cell_type": "code",
      "metadata": {
        "id": "kiXn1Euj0in3",
        "colab": {
          "base_uri": "https://localhost:8080/"
        },
        "outputId": "0474cde6-702a-409d-99f5-f385ed1a84ca"
      },
      "source": [
        "year = int(input(\"Year: \"))       #Input to test the expression\n",
        "\n",
        "year % 4 == 0       #Expression"
      ],
      "execution_count": null,
      "outputs": [
        {
          "output_type": "execute_result",
          "data": {
            "text/plain": [
              "True"
            ]
          },
          "metadata": {},
          "execution_count": 35
        }
      ]
    },
    {
      "cell_type": "markdown",
      "metadata": {
        "id": "Ihu8bMHr0jE5"
      },
      "source": [
        "d. `speed` is not greater than 55"
      ]
    },
    {
      "cell_type": "code",
      "metadata": {
        "id": "870HIRTK0l2D",
        "colab": {
          "base_uri": "https://localhost:8080/"
        },
        "outputId": "62f3ae59-1c81-4942-a49c-3dded428d21d"
      },
      "source": [
        "speed = float(input(\"Speed: \"))       #Input to test the expressions\n",
        "\n",
        "not (speed > 55)        #Expression"
      ],
      "execution_count": null,
      "outputs": [
        {
          "output_type": "execute_result",
          "data": {
            "text/plain": [
              "True"
            ]
          },
          "metadata": {},
          "execution_count": 40
        }
      ]
    },
    {
      "cell_type": "markdown",
      "metadata": {
        "id": "yWC8d4tX0mIH"
      },
      "source": [
        "e. `y` is greater than `x` and less than `z`"
      ]
    },
    {
      "cell_type": "code",
      "metadata": {
        "id": "a4fuXFGh0pHb",
        "colab": {
          "base_uri": "https://localhost:8080/"
        },
        "outputId": "ea1be7f4-e730-46d3-a9b0-8ffad537aad2"
      },
      "source": [
        "#Play with values to test the expressions\n",
        "x = int(input('\"X\" value: '))\n",
        "y = int(input('\"Y\" value: '))\n",
        "z = int(input('\"Z\" value: '))\n",
        "\n",
        "#Expressions:\n",
        "z > y > x      \n",
        "y > x and y < z"
      ],
      "execution_count": null,
      "outputs": [
        {
          "name": "stdout",
          "output_type": "stream",
          "text": [
            "\"X\" value: 3\n",
            "\"Y\" value: 4\n",
            "\"Z\" value: 5\n"
          ]
        },
        {
          "output_type": "execute_result",
          "data": {
            "text/plain": [
              "True"
            ]
          },
          "metadata": {},
          "execution_count": 52
        }
      ]
    },
    {
      "cell_type": "markdown",
      "metadata": {
        "id": "bifXl54S0pcJ"
      },
      "source": [
        "f. `w` is either equal to 6 or not greater than 3"
      ]
    },
    {
      "cell_type": "code",
      "metadata": {
        "id": "BJb0mBy90tOF",
        "colab": {
          "base_uri": "https://localhost:8080/"
        },
        "outputId": "fc060e2f-6cda-4fc7-e705-3cf340e71a78"
      },
      "source": [
        "w = int(input('Any number: '))        #Play with values to test the expressions\n",
        "\n",
        "w == 6 or not (w > 3)       #Expression"
      ],
      "execution_count": null,
      "outputs": [
        {
          "name": "stdout",
          "output_type": "stream",
          "text": [
            "Any number: 5\n"
          ]
        },
        {
          "output_type": "execute_result",
          "data": {
            "text/plain": [
              "False"
            ]
          },
          "metadata": {},
          "execution_count": 66
        }
      ]
    },
    {
      "cell_type": "markdown",
      "metadata": {
        "id": "m5433jWU1PvE"
      },
      "source": [
        "**Part 2.**"
      ]
    },
    {
      "cell_type": "markdown",
      "metadata": {
        "id": "G3ReGqXy1SYt"
      },
      "source": [
        "a. Define a fruitful function `get_blood_pressure` and implement the following decision table that categorizes a systolic blood pressure reading. Assume that the systolic blood pressure has been input as an integer.\n",
        "\n",
        "    Systolic Blood Pressure   | Category \n",
        "    140 and higher            | Hypertension \n",
        "    120 - 139                 | Pre-hypertension\n",
        "    Under 120                 | Normal"
      ]
    },
    {
      "cell_type": "code",
      "source": [
        "def get_blood_pressure(blood_pressure):\n",
        "    if blood_pressure >= 140: \n",
        "      return \"Hypertension\"\n",
        "    elif (blood_pressure >= 120) and (blood_pressure <= 139):\n",
        "      return \"Pre-hypertension\"\n",
        "    else:\n",
        "      return \"Normal\"\n",
        "\n",
        "\n",
        "user_blood_pressure = int(input(\"Systolic Blood Pressure: \"))\n",
        "blood_press_category = (get_blood_pressure(user_blood_pressure))\n",
        "print(\"Your blood pressure falls in the Category:\", blood_press_category)"
      ],
      "metadata": {
        "id": "_dwvaquzfvcD",
        "colab": {
          "base_uri": "https://localhost:8080/"
        },
        "outputId": "935ee8ed-586a-4c2f-9b87-deb210e82f6e"
      },
      "execution_count": null,
      "outputs": [
        {
          "output_type": "stream",
          "name": "stdout",
          "text": [
            "Systolic Blood Pressure: 1000\n",
            "Your blood pressure falls in the Category: Hypertension\n"
          ]
        }
      ]
    },
    {
      "cell_type": "markdown",
      "metadata": {
        "id": "3WXoW9M71n0h"
      },
      "source": [
        "b. Define a void function `describe_pH_level` and implement the decision diagrammed in the accompanying flowchart. Assume that the input value is an integer.\n",
        "\n",
        "![assignment-ph-level.PNG](data:image/png;base64,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)\n"
      ]
    },
    {
      "cell_type": "code",
      "source": [
        "def describe_pH_level(pH):\n",
        "  if pH > 7:\n",
        "    if pH < 12:\n",
        "      print(\"Alkaline\")\n",
        "    else:\n",
        "      print(\"Very Alkaline\")\n",
        "  else:\n",
        "    if pH == 7:\n",
        "      print(\"Neutral\")\n",
        "    elif pH > 2:\n",
        "      print(\"Acidic\")\n",
        "    else:\n",
        "      print(\"Very Acidic\")\n",
        "\n",
        "\n",
        "pH_input = int(input(\"pH: \"))\n",
        "describe_pH_level(pH_input)    \n"
      ],
      "metadata": {
        "id": "52SP8pcIfyS0",
        "colab": {
          "base_uri": "https://localhost:8080/"
        },
        "outputId": "2b452b62-6fd5-4786-ae5a-310bf7c27776"
      },
      "execution_count": null,
      "outputs": [
        {
          "output_type": "stream",
          "name": "stdout",
          "text": [
            "pH: 8\n",
            "Alkaline\n"
          ]
        }
      ]
    },
    {
      "cell_type": "markdown",
      "metadata": {
        "id": "DG3VN0-pQnkl"
      },
      "source": [
        "c. Ask the user four integers and store them in separate variables. Write a function that will sort the integers in descending order. Write the algorithm manually. Don't use a built-in function to sort the integers."
      ]
    },
    {
      "cell_type": "code",
      "source": [
        "def sort(num1, num2, num3, num4):                             #4 case: using nested if-else we can check it's descending order\n",
        "    if (num1 < num2) and (num1 < num3) and (num1 < num4):         \n",
        "        if (num2 < num3) and (num2 < num4):                   #Case 1: Assume num1 to be the lowest     \n",
        "            if (num3 < num4):                                         \n",
        "                w, x, y, z = num4, num3, num2, num1                   \n",
        "            else:                                                     \n",
        "                w, x, y, z = num3, num4, num2, num1                  \n",
        "        else:                                                         \n",
        "            if (num3 < num4):                                         \n",
        "                w, x, y, z = num2, num4, num3, num1                    \n",
        "            else:                                                     \n",
        "                w, x, y, z = num2 , num3, num4, num1               \n",
        "    elif (num2 < num1) and (num2 < num3) and (num2 < num4):    #Case2 Assume num2 to be the lowest \n",
        "        if (num1 < num3) and (num1 < num4):\n",
        "            if (num3 < num4):\n",
        "                w, x, y, z = num4, num3, num1, num2\n",
        "            else:\n",
        "                w, x, y, z = num3, num4, num1, num2\n",
        "        else:\n",
        "            if (num3 < num4):\n",
        "                w, x, y, z = num1, num4, num3, num2\n",
        "            else:\n",
        "                w, x, y, z = num1, num3, num4, num2\n",
        "    elif (num3 < num1) and (num3 < num2) and (num3 < num4):     #Case3 Assume num3 to be the lowest     \n",
        "        if (num1 < num2) and (num1 < num4):\n",
        "            if (num2 < num4):\n",
        "                w, x, y, z = num4, num2, num1, num3\n",
        "            else:\n",
        "                w, x, y, z = num2, num4, num1, num3\n",
        "        else:\n",
        "            if (num2 < num4):\n",
        "                w, x, y, z = num1, num4, num2, num3\n",
        "            else:\n",
        "                w, x, y, z = num1, num2, num4, num3\n",
        "    else:                                                       #Case4 : Else num4 to be the lowest\n",
        "        if (num1 < num2) and (num1 < num3):\n",
        "            if (num2 < num3):\n",
        "                w, x, y, z = num3, num2, num1, num4\n",
        "            else:\n",
        "                w, x, y, z = num2, num3, num1, num4\n",
        "        else:\n",
        "            if (num2 < num3):\n",
        "                w, x, y, z = num1, num3, num2, num4\n",
        "            else:\n",
        "                w, x, y, z = num1, num2, num3, num4\n",
        "    return w, x, y, z\n",
        "\n",
        "\n",
        "num1 = int(input(\"Enter First number : \"))\n",
        "num2 = int(input(\"Enter Second number : \"))\n",
        "num3 = int(input(\"Enter Third number : \"))\n",
        "num4 = int(input(\"Enter fourth number : \"))\n",
        "\n",
        "first, second, third, fourth = sort(num1, num2, num3, num4)\n",
        "print(\"Unsorted numbers:\", num1, num2, num3, num4)\n",
        "print(\"Numbers in descending order are :\", first, second, third, fourth)"
      ],
      "metadata": {
        "id": "Hy0UFm4VgPx0",
        "colab": {
          "base_uri": "https://localhost:8080/"
        },
        "outputId": "03bbf6d1-0903-4831-e8d2-589c645c6310"
      },
      "execution_count": null,
      "outputs": [
        {
          "output_type": "stream",
          "name": "stdout",
          "text": [
            "Enter First number : 4\n",
            "Enter Second number : 1\n",
            "Enter Third number : 9\n",
            "Enter fourth number : 7\n",
            "Unsorted numbers: 4 1 9 7\n",
            "Numbers in descending order are : 9 7 4 1\n"
          ]
        }
      ]
    },
    {
      "cell_type": "markdown",
      "source": [
        "d. Write a function that converts a number from 1 to 12 to the corresponding month. Prompt for a number and display the\n",
        "corresponding calendar month, with 1 being January and\n",
        "12 being December. For any value outside that range, display\n",
        "an appropriate error message.\n",
        "\n",
        "![sample-output-conditionals.PNG](data:image/png;base64,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)"
      ],
      "metadata": {
        "id": "o7XenQN2uaOt"
      }
    },
    {
      "cell_type": "code",
      "source": [
        "def month_char(month_num):\n",
        "    if (month_num == 1):\n",
        "        return \"January\"\n",
        "    elif (month_num == 2):\n",
        "        return \"February\"\n",
        "    elif (month_num == 3):\n",
        "        return \"March\"\n",
        "    elif (month_num == 4):\n",
        "        return \"April\"\n",
        "    elif (month_num == 5):\n",
        "        return \"May\"\n",
        "    elif (month_num == 6):\n",
        "        return \"June\"\n",
        "    elif (month_num == 7):\n",
        "        return \"July\"\n",
        "    elif (month_num == 8):\n",
        "        return \"August\"\n",
        "    elif (month_num == 9):\n",
        "        return \"September\"\n",
        "    elif (month_num == 10):\n",
        "        return \"October\"\n",
        "    elif (month_num == 11):\n",
        "        return \"November\"\n",
        "    elif (month_num == 12):\n",
        "        return \"December\"\n",
        "    else:\n",
        "        pass\n",
        "\n",
        "\n",
        "input_month = int(input(\"Please enter the number of the month: \"))\n",
        "\n",
        "if input_month <= 12 and input_month >= 1:\n",
        "    month = month_char(input_month)\n",
        "    print(\"The name of the month is:\", month)\n",
        "elif input_month == 0:\n",
        "    print(input_month, 'is invalid')\n",
        "else:\n",
        "    if input_month > 12:\n",
        "        print(input_month, \"exceeds the number of months!!\")\n",
        "    else:\n",
        "        print(\"their is no negative number in months\")\n",
        "    "
      ],
      "metadata": {
        "id": "BgsZgk4Suiuj",
        "colab": {
          "base_uri": "https://localhost:8080/"
        },
        "outputId": "90802db4-27cf-4b1a-91d6-7a827b21d88c"
      },
      "execution_count": null,
      "outputs": [
        {
          "output_type": "stream",
          "name": "stdout",
          "text": [
            "Please enter the number of the month: -1\n",
            "their is no negative number in months\n"
          ]
        }
      ]
    }
  ]
}